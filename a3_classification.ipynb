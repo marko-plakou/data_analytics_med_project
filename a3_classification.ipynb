{
 "cells": [
  {
   "cell_type": "markdown",
   "id": "742a2142",
   "metadata": {},
   "source": [
    "# A3 CLASSIFICATION USING A MLP."
   ]
  },
  {
   "cell_type": "code",
   "execution_count": 1,
   "id": "8d73ce73",
   "metadata": {},
   "outputs": [],
   "source": [
    "import pandas as pd\n",
    "import numpy as np \n",
    "from sklearn.preprocessing import LabelEncoder\n",
    "from sklearn.utils import shuffle\n",
    "import tensorflow as tf \n",
    "from keras.utils import np_utils \n",
    "from keras.models import Sequential \n",
    "from keras.layers import Dense\n",
    "import matplotlib.pyplot as plt\n",
    "from sklearn.metrics import matthews_corrcoef \n",
    "from sklearn.metrics import confusion_matrix\n",
    "from sklearn.preprocessing import MinMaxScaler\n",
    "from keras.layers import Dropout"
   ]
  },
  {
   "cell_type": "code",
   "execution_count": 2,
   "id": "223a22ff",
   "metadata": {},
   "outputs": [],
   "source": [
    "df=pd.read_csv('./GTC_clean.csv', sep=';') #read the dataset"
   ]
  },
  {
   "cell_type": "code",
   "execution_count": 3,
   "id": "72245a30",
   "metadata": {},
   "outputs": [],
   "source": [
    "X = df[['LB', 'AC', 'FM', 'UC', 'ASTV', 'MSTV', 'ALTV', 'MLTV', 'DL', 'DS',\n",
    "       'DP', 'Width', 'Min', 'Max', 'Nmax', 'Nzeros', 'Mode', 'Mean', 'Median',\n",
    "       'Variance', 'Tendency']]\n",
    "y=df['CLASS']#FHR"
   ]
  },
  {
   "cell_type": "code",
   "execution_count": 4,
   "id": "8e80dffe",
   "metadata": {},
   "outputs": [],
   "source": [
    "#encode in proper form 1d array.\n",
    "encoder = LabelEncoder().fit(y)\n",
    "y_bool = encoder.transform(y) \n",
    "y = np_utils.to_categorical(y_bool) \n"
   ]
  },
  {
   "cell_type": "markdown",
   "id": "cfa96c0e",
   "metadata": {},
   "source": [
    "## Standarize the data "
   ]
  },
  {
   "cell_type": "code",
   "execution_count": 5,
   "id": "24e8d7fa",
   "metadata": {},
   "outputs": [],
   "source": [
    "scaler=MinMaxScaler()\n",
    "scaled_x = scaler.fit_transform(X)\n",
    "scaled_y=scaler.fit_transform(y)"
   ]
  },
  {
   "cell_type": "code",
   "execution_count": 6,
   "id": "3df3febf",
   "metadata": {},
   "outputs": [
    {
     "name": "stdout",
     "output_type": "stream",
     "text": [
      "Length of data:2114\n",
      "Train  Data size: 1268\n",
      "Validation Data size: 211\n",
      "Test Data size: 635\n"
     ]
    }
   ],
   "source": [
    "len_data = X.shape[0]\n",
    "print(\"Length of data:%d\" % len_data)\n",
    "train_size = int(len_data * .6) #60 % of the data will be for training.\n",
    "valid_size = int(len_data * .1) #10% of the data will be for validation.\n",
    "print (\"Train  Data size: %d\" % train_size) \n",
    "print (\"Validation Data size: %d\" % valid_size)\n",
    "print (\"Test Data size: %d\" % (len_data - (train_size+valid_size))) #30% of the data will be for testing.\n"
   ]
  },
  {
   "cell_type": "markdown",
   "id": "e1847802",
   "metadata": {},
   "source": [
    "### Training "
   ]
  },
  {
   "cell_type": "code",
   "execution_count": 7,
   "id": "378d6aad",
   "metadata": {},
   "outputs": [],
   "source": [
    "xtr = scaled_x[:train_size,:]\n",
    "ytr = scaled_y[:train_size,:]\n",
    "ytr_bool = y_bool[:train_size]"
   ]
  },
  {
   "cell_type": "markdown",
   "id": "b6bdcc30",
   "metadata": {},
   "source": [
    "### Validation "
   ]
  },
  {
   "cell_type": "code",
   "execution_count": 8,
   "id": "acb64711",
   "metadata": {},
   "outputs": [],
   "source": [
    "xva = scaled_x[train_size:train_size+valid_size,:]\n",
    "yva = scaled_y[train_size:train_size+valid_size,:]\n",
    "yva_bool = y_bool[train_size:train_size+valid_size]"
   ]
  },
  {
   "cell_type": "markdown",
   "id": "1967fc30",
   "metadata": {},
   "source": [
    "### Testing "
   ]
  },
  {
   "cell_type": "code",
   "execution_count": 9,
   "id": "6decb4b5",
   "metadata": {},
   "outputs": [],
   "source": [
    "xte = scaled_x[train_size+valid_size:,:]\n",
    "yte = scaled_y[train_size+valid_size:,:]\n",
    "yte_bool = y_bool[train_size+valid_size:]"
   ]
  },
  {
   "cell_type": "markdown",
   "id": "c217f970",
   "metadata": {},
   "source": [
    "# Building our model with 4 layers and using as output activation function softmax because it is a classification mlp. "
   ]
  },
  {
   "cell_type": "code",
   "execution_count": 104,
   "id": "c23ea7a3",
   "metadata": {},
   "outputs": [],
   "source": [
    "model = Sequential()\n",
    "model.add(Dense(15, input_dim=21, activation='relu'))\n",
    "model.add(Dense(15, activation='relu'))\n",
    "model.add(Dense(10, activation='softmax'))"
   ]
  },
  {
   "cell_type": "markdown",
   "id": "910a849e",
   "metadata": {},
   "source": [
    "### Compile our model with accuracy metric in orde to view accuracy. "
   ]
  },
  {
   "cell_type": "code",
   "execution_count": 105,
   "id": "95d191c5",
   "metadata": {},
   "outputs": [],
   "source": [
    "model.compile(loss='categorical_crossentropy', optimizer='adam', metrics=['accuracy'])"
   ]
  },
  {
   "cell_type": "code",
   "execution_count": 106,
   "id": "7441337d",
   "metadata": {},
   "outputs": [
    {
     "name": "stdout",
     "output_type": "stream",
     "text": [
      "Model: \"sequential_8\"\n",
      "_________________________________________________________________\n",
      "Layer (type)                 Output Shape              Param #   \n",
      "=================================================================\n",
      "dense_24 (Dense)             (None, 15)                330       \n",
      "_________________________________________________________________\n",
      "dense_25 (Dense)             (None, 15)                240       \n",
      "_________________________________________________________________\n",
      "dense_26 (Dense)             (None, 10)                160       \n",
      "=================================================================\n",
      "Total params: 730\n",
      "Trainable params: 730\n",
      "Non-trainable params: 0\n",
      "_________________________________________________________________\n"
     ]
    }
   ],
   "source": [
    "model.summary() #the summary of the layers."
   ]
  },
  {
   "cell_type": "markdown",
   "id": "47a7a554",
   "metadata": {},
   "source": [
    "## The actual training and validation."
   ]
  },
  {
   "cell_type": "code",
   "execution_count": 107,
   "id": "5aa8bf29",
   "metadata": {},
   "outputs": [
    {
     "name": "stdout",
     "output_type": "stream",
     "text": [
      "Epoch 1/65\n",
      "1268/1268 - 1s - loss: 1.9168 - accuracy: 0.3194 - val_loss: 1.6429 - val_accuracy: 0.3223\n",
      "Epoch 2/65\n",
      "1268/1268 - 0s - loss: 1.3829 - accuracy: 0.5292 - val_loss: 1.2264 - val_accuracy: 0.6398\n",
      "Epoch 3/65\n",
      "1268/1268 - 0s - loss: 1.0796 - accuracy: 0.6301 - val_loss: 0.9641 - val_accuracy: 0.7156\n",
      "Epoch 4/65\n",
      "1268/1268 - 1s - loss: 0.9023 - accuracy: 0.6869 - val_loss: 0.8144 - val_accuracy: 0.7441\n",
      "Epoch 5/65\n",
      "1268/1268 - 1s - loss: 0.8068 - accuracy: 0.7169 - val_loss: 0.7643 - val_accuracy: 0.7346\n",
      "Epoch 6/65\n",
      "1268/1268 - 1s - loss: 0.7496 - accuracy: 0.7492 - val_loss: 0.7521 - val_accuracy: 0.7393\n",
      "Epoch 7/65\n",
      "1268/1268 - 1s - loss: 0.7073 - accuracy: 0.7650 - val_loss: 0.6905 - val_accuracy: 0.7773\n",
      "Epoch 8/65\n",
      "1268/1268 - 1s - loss: 0.6756 - accuracy: 0.7674 - val_loss: 0.7113 - val_accuracy: 0.7678\n",
      "Epoch 9/65\n",
      "1268/1268 - 1s - loss: 0.6594 - accuracy: 0.7721 - val_loss: 0.6624 - val_accuracy: 0.7630\n",
      "Epoch 10/65\n",
      "1268/1268 - 1s - loss: 0.6320 - accuracy: 0.7705 - val_loss: 0.6549 - val_accuracy: 0.7346\n",
      "Epoch 11/65\n",
      "1268/1268 - 1s - loss: 0.6275 - accuracy: 0.7800 - val_loss: 0.6239 - val_accuracy: 0.7725\n",
      "Epoch 12/65\n",
      "1268/1268 - 1s - loss: 0.6085 - accuracy: 0.7808 - val_loss: 0.5774 - val_accuracy: 0.7536\n",
      "Epoch 13/65\n",
      "1268/1268 - 1s - loss: 0.5950 - accuracy: 0.7831 - val_loss: 0.6228 - val_accuracy: 0.7820\n",
      "Epoch 14/65\n",
      "1268/1268 - 1s - loss: 0.5828 - accuracy: 0.7871 - val_loss: 0.6677 - val_accuracy: 0.7346\n",
      "Epoch 15/65\n",
      "1268/1268 - 1s - loss: 0.5794 - accuracy: 0.7863 - val_loss: 0.6264 - val_accuracy: 0.7678\n",
      "Epoch 16/65\n",
      "1268/1268 - 1s - loss: 0.5635 - accuracy: 0.7902 - val_loss: 0.6807 - val_accuracy: 0.7441\n",
      "Epoch 17/65\n",
      "1268/1268 - 1s - loss: 0.5585 - accuracy: 0.7981 - val_loss: 0.6021 - val_accuracy: 0.7488\n",
      "Epoch 18/65\n",
      "1268/1268 - 1s - loss: 0.5535 - accuracy: 0.7950 - val_loss: 0.6651 - val_accuracy: 0.7820\n",
      "Epoch 19/65\n",
      "1268/1268 - 1s - loss: 0.5472 - accuracy: 0.7981 - val_loss: 0.6267 - val_accuracy: 0.7583\n",
      "Epoch 20/65\n",
      "1268/1268 - 1s - loss: 0.5371 - accuracy: 0.8021 - val_loss: 0.5368 - val_accuracy: 0.7867\n",
      "Epoch 21/65\n",
      "1268/1268 - 1s - loss: 0.5358 - accuracy: 0.8028 - val_loss: 0.6151 - val_accuracy: 0.7583\n",
      "Epoch 22/65\n",
      "1268/1268 - 1s - loss: 0.5186 - accuracy: 0.8091 - val_loss: 0.6112 - val_accuracy: 0.7346\n",
      "Epoch 23/65\n",
      "1268/1268 - 1s - loss: 0.5285 - accuracy: 0.8068 - val_loss: 0.5462 - val_accuracy: 0.7630\n",
      "Epoch 24/65\n",
      "1268/1268 - 1s - loss: 0.5137 - accuracy: 0.8099 - val_loss: 0.5928 - val_accuracy: 0.7630\n",
      "Epoch 25/65\n",
      "1268/1268 - 1s - loss: 0.5026 - accuracy: 0.8194 - val_loss: 0.5597 - val_accuracy: 0.7725\n",
      "Epoch 26/65\n",
      "1268/1268 - 1s - loss: 0.5009 - accuracy: 0.8226 - val_loss: 0.6445 - val_accuracy: 0.7630\n",
      "Epoch 27/65\n",
      "1268/1268 - 1s - loss: 0.4956 - accuracy: 0.8162 - val_loss: 0.5396 - val_accuracy: 0.7773\n",
      "Epoch 28/65\n",
      "1268/1268 - 1s - loss: 0.4898 - accuracy: 0.8099 - val_loss: 0.5435 - val_accuracy: 0.7773\n",
      "Epoch 29/65\n",
      "1268/1268 - 1s - loss: 0.4934 - accuracy: 0.8115 - val_loss: 0.5385 - val_accuracy: 0.7678\n",
      "Epoch 30/65\n",
      "1268/1268 - 1s - loss: 0.4838 - accuracy: 0.8170 - val_loss: 0.5875 - val_accuracy: 0.7583\n",
      "Epoch 31/65\n",
      "1268/1268 - 1s - loss: 0.4764 - accuracy: 0.8194 - val_loss: 0.5152 - val_accuracy: 0.7962\n",
      "Epoch 32/65\n",
      "1268/1268 - 1s - loss: 0.4804 - accuracy: 0.8194 - val_loss: 0.5134 - val_accuracy: 0.7820\n",
      "Epoch 33/65\n",
      "1268/1268 - 1s - loss: 0.4776 - accuracy: 0.8257 - val_loss: 0.5422 - val_accuracy: 0.7630\n",
      "Epoch 34/65\n",
      "1268/1268 - 1s - loss: 0.4699 - accuracy: 0.8289 - val_loss: 0.5519 - val_accuracy: 0.7725\n",
      "Epoch 35/65\n",
      "1268/1268 - 1s - loss: 0.4626 - accuracy: 0.8273 - val_loss: 0.5330 - val_accuracy: 0.7773\n",
      "Epoch 36/65\n",
      "1268/1268 - 1s - loss: 0.4688 - accuracy: 0.8249 - val_loss: 0.5522 - val_accuracy: 0.7725\n",
      "Epoch 37/65\n",
      "1268/1268 - 1s - loss: 0.4536 - accuracy: 0.8265 - val_loss: 0.5693 - val_accuracy: 0.7678\n",
      "Epoch 38/65\n",
      "1268/1268 - 1s - loss: 0.4598 - accuracy: 0.8328 - val_loss: 0.5778 - val_accuracy: 0.7725\n",
      "Epoch 39/65\n",
      "1268/1268 - 1s - loss: 0.4538 - accuracy: 0.8344 - val_loss: 0.5791 - val_accuracy: 0.7678\n",
      "Epoch 40/65\n",
      "1268/1268 - 1s - loss: 0.4509 - accuracy: 0.8218 - val_loss: 0.5767 - val_accuracy: 0.7536\n",
      "Epoch 41/65\n",
      "1268/1268 - 1s - loss: 0.4456 - accuracy: 0.8312 - val_loss: 0.5557 - val_accuracy: 0.7773\n",
      "Epoch 42/65\n",
      "1268/1268 - 1s - loss: 0.4435 - accuracy: 0.8352 - val_loss: 0.5589 - val_accuracy: 0.7867\n",
      "Epoch 43/65\n",
      "1268/1268 - 1s - loss: 0.4360 - accuracy: 0.8281 - val_loss: 0.5602 - val_accuracy: 0.7773\n",
      "Epoch 44/65\n",
      "1268/1268 - 1s - loss: 0.4443 - accuracy: 0.8312 - val_loss: 0.6260 - val_accuracy: 0.7488\n",
      "Epoch 45/65\n",
      "1268/1268 - 1s - loss: 0.4384 - accuracy: 0.8352 - val_loss: 0.5519 - val_accuracy: 0.7630\n",
      "Epoch 46/65\n",
      "1268/1268 - 1s - loss: 0.4248 - accuracy: 0.8399 - val_loss: 0.5537 - val_accuracy: 0.7773\n",
      "Epoch 47/65\n",
      "1268/1268 - 1s - loss: 0.4281 - accuracy: 0.8383 - val_loss: 0.6624 - val_accuracy: 0.7156\n",
      "Epoch 48/65\n",
      "1268/1268 - 1s - loss: 0.4300 - accuracy: 0.8281 - val_loss: 0.5230 - val_accuracy: 0.7820\n",
      "Epoch 49/65\n",
      "1268/1268 - 1s - loss: 0.4210 - accuracy: 0.8415 - val_loss: 0.5766 - val_accuracy: 0.7678\n",
      "Epoch 50/65\n",
      "1268/1268 - 1s - loss: 0.4195 - accuracy: 0.8470 - val_loss: 0.5575 - val_accuracy: 0.7536\n",
      "Epoch 51/65\n",
      "1268/1268 - 1s - loss: 0.4124 - accuracy: 0.8399 - val_loss: 0.5088 - val_accuracy: 0.7725\n",
      "Epoch 52/65\n",
      "1268/1268 - 1s - loss: 0.4171 - accuracy: 0.8391 - val_loss: 0.5434 - val_accuracy: 0.7773\n",
      "Epoch 53/65\n",
      "1268/1268 - 1s - loss: 0.4164 - accuracy: 0.8446 - val_loss: 0.5127 - val_accuracy: 0.7725\n",
      "Epoch 54/65\n",
      "1268/1268 - 1s - loss: 0.4164 - accuracy: 0.8446 - val_loss: 0.5684 - val_accuracy: 0.7583\n",
      "Epoch 55/65\n",
      "1268/1268 - 1s - loss: 0.4029 - accuracy: 0.8573 - val_loss: 0.5502 - val_accuracy: 0.7867\n",
      "Epoch 56/65\n",
      "1268/1268 - 1s - loss: 0.4090 - accuracy: 0.8375 - val_loss: 0.5030 - val_accuracy: 0.7725\n",
      "Epoch 57/65\n",
      "1268/1268 - 1s - loss: 0.4063 - accuracy: 0.8502 - val_loss: 0.5597 - val_accuracy: 0.7630\n",
      "Epoch 58/65\n",
      "1268/1268 - 1s - loss: 0.3996 - accuracy: 0.8399 - val_loss: 0.4575 - val_accuracy: 0.7962\n",
      "Epoch 59/65\n",
      "1268/1268 - 1s - loss: 0.4004 - accuracy: 0.8462 - val_loss: 0.5823 - val_accuracy: 0.7536\n",
      "Epoch 60/65\n",
      "1268/1268 - 1s - loss: 0.3966 - accuracy: 0.8494 - val_loss: 0.5824 - val_accuracy: 0.7630\n",
      "Epoch 61/65\n",
      "1268/1268 - 1s - loss: 0.3949 - accuracy: 0.8438 - val_loss: 0.5515 - val_accuracy: 0.7678\n",
      "Epoch 62/65\n",
      "1268/1268 - 1s - loss: 0.3949 - accuracy: 0.8494 - val_loss: 0.5047 - val_accuracy: 0.7773\n",
      "Epoch 63/65\n",
      "1268/1268 - 1s - loss: 0.3868 - accuracy: 0.8470 - val_loss: 0.5604 - val_accuracy: 0.7536\n",
      "Epoch 64/65\n",
      "1268/1268 - 1s - loss: 0.3878 - accuracy: 0.8502 - val_loss: 0.6267 - val_accuracy: 0.7583\n",
      "Epoch 65/65\n",
      "1268/1268 - 1s - loss: 0.3821 - accuracy: 0.8573 - val_loss: 0.5729 - val_accuracy: 0.7583\n"
     ]
    }
   ],
   "source": [
    "history = model.fit(xtr, ytr, validation_data=(xva, yva), epochs=65, batch_size=1, verbose=2)"
   ]
  },
  {
   "cell_type": "markdown",
   "id": "faff281d",
   "metadata": {},
   "source": [
    "## Plot the loss function progression."
   ]
  },
  {
   "cell_type": "code",
   "execution_count": 115,
   "id": "e94f8f9c",
   "metadata": {},
   "outputs": [
    {
     "data": {
      "image/png": "[encoded data removed]",
      "text/plain": [
       "<Figure size 1440x720 with 1 Axes>"
      ]
     },
     "metadata": {
      "needs_background": "light"
     },
     "output_type": "display_data"
    }
   ],
   "source": [
    "plt.figure(figsize=(20, 10))\n",
    "plt.subplot(2, 1, 1)\n",
    "plt.plot(history.history['loss']) #blue\n",
    "plt.plot(history.history['val_loss']) #orange\n",
    "plt.savefig('./mlp_classification_loss_function.png')\n",
    "plt.show()\n"
   ]
  },
  {
   "cell_type": "markdown",
   "id": "858dcde8",
   "metadata": {},
   "source": [
    "## Plot the accuracy progression. "
   ]
  },
  {
   "cell_type": "code",
   "execution_count": 116,
   "id": "7f6a1b84",
   "metadata": {},
   "outputs": [
    {
     "data": {
      "image/png": "[encoded data removed]",
      "text/plain": [
       "<Figure size 1440x720 with 1 Axes>"
      ]
     },
     "metadata": {
      "needs_background": "light"
     },
     "output_type": "display_data"
    }
   ],
   "source": [
    "plt.figure(figsize=(20, 10))\n",
    "plt.subplot(2, 1, 2)\n",
    "plt.plot(history.history['accuracy'])#blue\n",
    "plt.plot(history.history['val_accuracy'])#orange\n",
    "plt.savefig('./mlp_classification_accuracy.png')\n",
    "plt.show()"
   ]
  },
  {
   "cell_type": "markdown",
   "id": "d2c9be73",
   "metadata": {},
   "source": [
    "### Training accuracy. "
   ]
  },
  {
   "cell_type": "code",
   "execution_count": 110,
   "id": "f7963899",
   "metadata": {},
   "outputs": [
    {
     "name": "stdout",
     "output_type": "stream",
     "text": [
      "Train Accuracy by model.predict: 84.31%\n"
     ]
    }
   ],
   "source": [
    "ytr_pred = model.predict_classes(xtr, verbose=0)\n",
    "print(\"Train Accuracy by model.predict: %.2f%%\" % (100*sum(ytr_bool == ytr_pred)/ytr.shape[0]))"
   ]
  },
  {
   "cell_type": "markdown",
   "id": "5ab91859",
   "metadata": {},
   "source": [
    "### Vlidation accuracy. "
   ]
  },
  {
   "cell_type": "code",
   "execution_count": 111,
   "id": "28bd4273",
   "metadata": {},
   "outputs": [
    {
     "name": "stdout",
     "output_type": "stream",
     "text": [
      "Val Accuracy by model.predict: 75.83%\n"
     ]
    }
   ],
   "source": [
    "yva_pred = model.predict_classes(xva, verbose=0)\n",
    "print(\"Val Accuracy by model.predict: %.2f%%\" % (100*sum(yva_bool == yva_pred)/yva.shape[0]))"
   ]
  },
  {
   "cell_type": "markdown",
   "id": "2d3bc7f5",
   "metadata": {},
   "source": [
    "### Prediction accuracy. (True accuracy) "
   ]
  },
  {
   "cell_type": "code",
   "execution_count": 112,
   "id": "5431954e",
   "metadata": {},
   "outputs": [
    {
     "name": "stdout",
     "output_type": "stream",
     "text": [
      "Test Accuracy by model.predict: 69.13%\n"
     ]
    }
   ],
   "source": [
    "yte_pred = model.predict(xte, batch_size=1, verbose=0)\n",
    "yte_pred_bool = np.argmax(yte_pred, axis=1)\n",
    "\n",
    "print(\"Test Accuracy by model.predict: %.2f%%\" % (100*sum(yte_bool == yte_pred_bool)/yte.shape[0]))\n"
   ]
  },
  {
   "cell_type": "code",
   "execution_count": 113,
   "id": "a75b68d2",
   "metadata": {},
   "outputs": [],
   "source": [
    "#model.save_weights('./classification_model_a') # save the trained model in otder to use it again."
   ]
  },
  {
   "cell_type": "markdown",
   "id": "21a9996e",
   "metadata": {},
   "source": [
    "## Using matthews correlation coefficient in order to view model's success."
   ]
  },
  {
   "cell_type": "code",
   "execution_count": 118,
   "id": "0b566029",
   "metadata": {},
   "outputs": [
    {
     "name": "stdout",
     "output_type": "stream",
     "text": [
      "Train MMC:  0.8114675946557428\n",
      "Validation MMC:  0.7009697012402853\n",
      "Test MMC:  0.6317555046889216\n"
     ]
    }
   ],
   "source": [
    "print(\"Train MMC: \", matthews_corrcoef(ytr_bool, ytr_pred))\n",
    "print(\"Validation MMC: \", matthews_corrcoef(yva_bool, yva_pred))\n",
    "print(\"Test MMC: \", matthews_corrcoef(yte_bool, yte_pred_bool))\n"
   ]
  },
  {
   "cell_type": "markdown",
   "id": "cd485acc",
   "metadata": {},
   "source": [
    "## Display confusion matrices for each stage."
   ]
  },
  {
   "cell_type": "code",
   "execution_count": 119,
   "id": "0686f697",
   "metadata": {},
   "outputs": [
    {
     "name": "stdout",
     "output_type": "stream",
     "text": [
      "Training confusion matrix:\n",
      "[[239  12   9   0   0   3   3   0   0   2]\n",
      " [  3 331   0   1   0  10   0   0   0   0]\n",
      " [ 20   1  14   0   0   0   2   0   0   0]\n",
      " [  0  12   0  59   0   0   0   0   0   0]\n",
      " [ 15   7   1   0  14   0   0   0   0   7]\n",
      " [  2   1   0   0   0 121   2   0   0   0]\n",
      " [  3   0   0   0   0   6 100   4   0   0]\n",
      " [  0   0   0   0   0   0   1  12   0   0]\n",
      " [  1   0   0   0   0   0   0   0  46  20]\n",
      " [ 41   0   0   0   1   0   0   0   9 133]]\n",
      "Validation confusion matrix:\n",
      "[[15  0  2  0  0  0  0  0  0]\n",
      " [ 3 57  0  4  0  1  0  0  0]\n",
      " [ 0  0  0  0  0  0  0  0  0]\n",
      " [ 0  0  0  3  0  0  0  0  0]\n",
      " [15  2  0  0  1  0  0  0  0]\n",
      " [ 0  2  0  1  0 57  2  1  0]\n",
      " [ 0  0  0  0  0  6 23  5  0]\n",
      " [ 0  0  0  0  0  1  0  4  0]\n",
      " [ 6  0  0  0  0  0  0  0  0]]\n",
      "Testing confusion matrix:\n",
      "[[ 37  13   1   0   0   1   1   0   7  38]\n",
      " [  0 153   0   4   1   5   1   0   1   0]\n",
      " [  9   0   4   0   0   0   0   0   0   1]\n",
      " [  0   5   0   2   0   0   0   0   0   0]\n",
      " [  4   2   0   0   1   0   0   0   0   3]\n",
      " [  0   9   0   0   0 128   6   0   0   0]\n",
      " [  6   0   0   0   0   4  94   1   0   0]\n",
      " [  0   0   0   0   0  14  59  16   0   0]\n",
      " [  0   0   0   0   0   0   0   0   0   0]\n",
      " [  0   0   0   0   0   0   0   0   0   4]]\n"
     ]
    }
   ],
   "source": [
    "print(\"Training confusion matrix:\")\n",
    "print(confusion_matrix(ytr_bool, ytr_pred))\n",
    "print(\"Validation confusion matrix:\")\n",
    "print(confusion_matrix(yva_bool, yva_pred))\n",
    "print(\"Testing confusion matrix:\")\n",
    "print(confusion_matrix(yte_bool, yte_pred_bool))"
   ]
  },
  {
   "cell_type": "code",
   "execution_count": null,
   "id": "d9379bfa",
   "metadata": {},
   "outputs": [],
   "source": []
  }
 ],
 "metadata": {
  "kernelspec": {
   "display_name": "Python 3",
   "language": "python",
   "name": "python3"
  },
  "language_info": {
   "codemirror_mode": {
    "name": "ipython",
    "version": 3
   },
   "file_extension": ".py",
   "mimetype": "text/x-python",
   "name": "python",
   "nbconvert_exporter": "python",
   "pygments_lexer": "ipython3",
   "version": "3.8.10"
  }
 },
 "nbformat": 4,
 "nbformat_minor": 5
}
